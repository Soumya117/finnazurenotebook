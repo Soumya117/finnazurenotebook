{
  "cells": [
    {
      "metadata": {
        "trusted": false
      },
      "cell_type": "code",
      "source": "#now append data to either list only if it is not present already\ndef search_links(search):\n    with open('links.json') as input:\n        data = json.load(input)\n        for item in data['links']:\n            if search in item:\n                return True\n    return False\n\nif search_links(\"http://go1.com/\"):\n    print(\"Link exists..\")\nelse:\n    print(\"Can add..\")\n            ",
      "execution_count": 15,
      "outputs": [
        {
          "name": "stdout",
          "output_type": "stream",
          "text": "Can add..\n"
        }
      ]
    },
    {
      "metadata": {
        "trusted": false
      },
      "cell_type": "code",
      "source": "def search_pris(index, search):\n    pris = []\n    with open('pris.json') as input:\n        data = json.load(input)\n        for item in data['pris']:\n            pris.append(item)\n    \n    index_pris = pris[index]\n    print(index_pris)\n    if search in index_pris:\n        return True\n    return False\n\nif search_pris(0, \"87876567\"):\n    print(\"Pris is there..\")\nelse:\n    print(\"Add..\")\n            ",
      "execution_count": 23,
      "outputs": [
        {
          "name": "stdout",
          "output_type": "stream",
          "text": "['8687675948', '87876567', '667564568']\nPris is there..\n"
        }
      ]
    },
    {
      "metadata": {
        "trusted": false
      },
      "cell_type": "code",
      "source": "#read\n#search\n#append\n#dump\n#links\ndef add_link(search):\n    data = {}\n    data['links'] = []\n    with open('links_ex.json' , 'w') as output:\n        json.dump(data, output)\n    \n    with open('links_ex.json') as input:\n        data = json.load(input)\n        exists = False\n        for item in data['links']:\n            if search in item:\n                exists = True\n                break\n        if not exists:\n            data['links'].append(search)\n        with open('links_ex.json', 'w') as output:\n            json.dump(data, output)\n\ndef print_json():\n    with open('links_ex.json') as links:\n        data = json.load(links)\n        for link in data['links']:\n            print(link)\n\nadd_link(\"http://go1.com/\")",
      "execution_count": 104,
      "outputs": []
    },
    {
      "metadata": {
        "trusted": false
      },
      "cell_type": "code",
      "source": "import json\nimport datetime\n\ndata = {}\ndata['links'] = []\nlist = [\"http://go.com/\", \"http://www.com/\", \"http://localhost.com/\"]\nfor item in list:\n    now = datetime.datetime.now()\n    new_item = {}\n    new_item['link'] = []\n    new_item['link'].append(item)\n    new_item['link'].append(now)\n    data['links'].append(new_item)\n\nwith open('links_ex.json', 'w') as outfile:\n    json.dump(data, outfile)\n\n#another list with prices\nprice1 = [\"8687675948\", \"87876567\", \"667564568\"]\nprice2 = [\"675685868\", \"57567658\", \"56768679\"]\nprice3 = [\"547475688\", \"5464746857\", \"8978968778\"]\npris = [price1, price2, price3]\ni=0\npris_data = {}\nfor p in pris:\n    item = list[i]\n    pris_data[item] = []\n    for price in p:\n        pris_data[item].append(price)\n    i = i + 1\nwith open('pris_ex.json', 'w') as outfile:\n    json.dump(pris_data, outfile)\n\n#reading data back\nfinn_links = []\nwith open('links_ex.json') as links:\n    data = json.load(links)\n    for link in data['links']:\n        finn_links.append(link)\n\nwith open('pris_ex.json') as output:\n    pris_data = json.load(output)\n    print(pris_data)",
      "execution_count": 108,
      "outputs": [
        {
          "ename": "TypeError",
          "evalue": "datetime.datetime(2019, 7, 13, 17, 4, 46, 402745) is not JSON serializable",
          "output_type": "error",
          "traceback": [
            "\u001b[0;31m---------------------------------------------------------------------------\u001b[0m",
            "\u001b[0;31mTypeError\u001b[0m                                 Traceback (most recent call last)",
            "\u001b[0;32m<ipython-input-108-c2343c105a0c>\u001b[0m in \u001b[0;36m<module>\u001b[0;34m()\u001b[0m\n\u001b[1;32m     14\u001b[0m \u001b[0;34m\u001b[0m\u001b[0m\n\u001b[1;32m     15\u001b[0m \u001b[0;32mwith\u001b[0m \u001b[0mopen\u001b[0m\u001b[0;34m(\u001b[0m\u001b[0;34m'links_ex.json'\u001b[0m\u001b[0;34m,\u001b[0m \u001b[0;34m'w'\u001b[0m\u001b[0;34m)\u001b[0m \u001b[0;32mas\u001b[0m \u001b[0moutfile\u001b[0m\u001b[0;34m:\u001b[0m\u001b[0;34m\u001b[0m\u001b[0m\n\u001b[0;32m---> 16\u001b[0;31m     \u001b[0mjson\u001b[0m\u001b[0;34m.\u001b[0m\u001b[0mdump\u001b[0m\u001b[0;34m(\u001b[0m\u001b[0mdata\u001b[0m\u001b[0;34m,\u001b[0m \u001b[0moutfile\u001b[0m\u001b[0;34m)\u001b[0m\u001b[0;34m\u001b[0m\u001b[0m\n\u001b[0m\u001b[1;32m     17\u001b[0m \u001b[0;34m\u001b[0m\u001b[0m\n\u001b[1;32m     18\u001b[0m \u001b[0;31m#another list with prices\u001b[0m\u001b[0;34m\u001b[0m\u001b[0;34m\u001b[0m\u001b[0m\n",
            "\u001b[0;32m~/anaconda3_420/lib/python3.5/json/__init__.py\u001b[0m in \u001b[0;36mdump\u001b[0;34m(obj, fp, skipkeys, ensure_ascii, check_circular, allow_nan, cls, indent, separators, default, sort_keys, **kw)\u001b[0m\n\u001b[1;32m    176\u001b[0m     \u001b[0;31m# could accelerate with writelines in some versions of Python, at\u001b[0m\u001b[0;34m\u001b[0m\u001b[0;34m\u001b[0m\u001b[0m\n\u001b[1;32m    177\u001b[0m     \u001b[0;31m# a debuggability cost\u001b[0m\u001b[0;34m\u001b[0m\u001b[0;34m\u001b[0m\u001b[0m\n\u001b[0;32m--> 178\u001b[0;31m     \u001b[0;32mfor\u001b[0m \u001b[0mchunk\u001b[0m \u001b[0;32min\u001b[0m \u001b[0miterable\u001b[0m\u001b[0;34m:\u001b[0m\u001b[0;34m\u001b[0m\u001b[0m\n\u001b[0m\u001b[1;32m    179\u001b[0m         \u001b[0mfp\u001b[0m\u001b[0;34m.\u001b[0m\u001b[0mwrite\u001b[0m\u001b[0;34m(\u001b[0m\u001b[0mchunk\u001b[0m\u001b[0;34m)\u001b[0m\u001b[0;34m\u001b[0m\u001b[0m\n\u001b[1;32m    180\u001b[0m \u001b[0;34m\u001b[0m\u001b[0m\n",
            "\u001b[0;32m~/anaconda3_420/lib/python3.5/json/encoder.py\u001b[0m in \u001b[0;36m_iterencode\u001b[0;34m(o, _current_indent_level)\u001b[0m\n\u001b[1;32m    427\u001b[0m             \u001b[0;32myield\u001b[0m \u001b[0;32mfrom\u001b[0m \u001b[0m_iterencode_list\u001b[0m\u001b[0;34m(\u001b[0m\u001b[0mo\u001b[0m\u001b[0;34m,\u001b[0m \u001b[0m_current_indent_level\u001b[0m\u001b[0;34m)\u001b[0m\u001b[0;34m\u001b[0m\u001b[0m\n\u001b[1;32m    428\u001b[0m         \u001b[0;32melif\u001b[0m \u001b[0misinstance\u001b[0m\u001b[0;34m(\u001b[0m\u001b[0mo\u001b[0m\u001b[0;34m,\u001b[0m \u001b[0mdict\u001b[0m\u001b[0;34m)\u001b[0m\u001b[0;34m:\u001b[0m\u001b[0;34m\u001b[0m\u001b[0m\n\u001b[0;32m--> 429\u001b[0;31m             \u001b[0;32myield\u001b[0m \u001b[0;32mfrom\u001b[0m \u001b[0m_iterencode_dict\u001b[0m\u001b[0;34m(\u001b[0m\u001b[0mo\u001b[0m\u001b[0;34m,\u001b[0m \u001b[0m_current_indent_level\u001b[0m\u001b[0;34m)\u001b[0m\u001b[0;34m\u001b[0m\u001b[0m\n\u001b[0m\u001b[1;32m    430\u001b[0m         \u001b[0;32melse\u001b[0m\u001b[0;34m:\u001b[0m\u001b[0;34m\u001b[0m\u001b[0m\n\u001b[1;32m    431\u001b[0m             \u001b[0;32mif\u001b[0m \u001b[0mmarkers\u001b[0m \u001b[0;32mis\u001b[0m \u001b[0;32mnot\u001b[0m \u001b[0;32mNone\u001b[0m\u001b[0;34m:\u001b[0m\u001b[0;34m\u001b[0m\u001b[0m\n",
            "\u001b[0;32m~/anaconda3_420/lib/python3.5/json/encoder.py\u001b[0m in \u001b[0;36m_iterencode_dict\u001b[0;34m(dct, _current_indent_level)\u001b[0m\n\u001b[1;32m    401\u001b[0m                 \u001b[0;32melse\u001b[0m\u001b[0;34m:\u001b[0m\u001b[0;34m\u001b[0m\u001b[0m\n\u001b[1;32m    402\u001b[0m                     \u001b[0mchunks\u001b[0m \u001b[0;34m=\u001b[0m \u001b[0m_iterencode\u001b[0m\u001b[0;34m(\u001b[0m\u001b[0mvalue\u001b[0m\u001b[0;34m,\u001b[0m \u001b[0m_current_indent_level\u001b[0m\u001b[0;34m)\u001b[0m\u001b[0;34m\u001b[0m\u001b[0m\n\u001b[0;32m--> 403\u001b[0;31m                 \u001b[0;32myield\u001b[0m \u001b[0;32mfrom\u001b[0m \u001b[0mchunks\u001b[0m\u001b[0;34m\u001b[0m\u001b[0m\n\u001b[0m\u001b[1;32m    404\u001b[0m         \u001b[0;32mif\u001b[0m \u001b[0mnewline_indent\u001b[0m \u001b[0;32mis\u001b[0m \u001b[0;32mnot\u001b[0m \u001b[0;32mNone\u001b[0m\u001b[0;34m:\u001b[0m\u001b[0;34m\u001b[0m\u001b[0m\n\u001b[1;32m    405\u001b[0m             \u001b[0m_current_indent_level\u001b[0m \u001b[0;34m-=\u001b[0m \u001b[0;36m1\u001b[0m\u001b[0;34m\u001b[0m\u001b[0m\n",
            "\u001b[0;32m~/anaconda3_420/lib/python3.5/json/encoder.py\u001b[0m in \u001b[0;36m_iterencode_list\u001b[0;34m(lst, _current_indent_level)\u001b[0m\n\u001b[1;32m    322\u001b[0m                 \u001b[0;32melse\u001b[0m\u001b[0;34m:\u001b[0m\u001b[0;34m\u001b[0m\u001b[0m\n\u001b[1;32m    323\u001b[0m                     \u001b[0mchunks\u001b[0m \u001b[0;34m=\u001b[0m \u001b[0m_iterencode\u001b[0m\u001b[0;34m(\u001b[0m\u001b[0mvalue\u001b[0m\u001b[0;34m,\u001b[0m \u001b[0m_current_indent_level\u001b[0m\u001b[0;34m)\u001b[0m\u001b[0;34m\u001b[0m\u001b[0m\n\u001b[0;32m--> 324\u001b[0;31m                 \u001b[0;32myield\u001b[0m \u001b[0;32mfrom\u001b[0m \u001b[0mchunks\u001b[0m\u001b[0;34m\u001b[0m\u001b[0m\n\u001b[0m\u001b[1;32m    325\u001b[0m         \u001b[0;32mif\u001b[0m \u001b[0mnewline_indent\u001b[0m \u001b[0;32mis\u001b[0m \u001b[0;32mnot\u001b[0m \u001b[0;32mNone\u001b[0m\u001b[0;34m:\u001b[0m\u001b[0;34m\u001b[0m\u001b[0m\n\u001b[1;32m    326\u001b[0m             \u001b[0m_current_indent_level\u001b[0m \u001b[0;34m-=\u001b[0m \u001b[0;36m1\u001b[0m\u001b[0;34m\u001b[0m\u001b[0m\n",
            "\u001b[0;32m~/anaconda3_420/lib/python3.5/json/encoder.py\u001b[0m in \u001b[0;36m_iterencode_dict\u001b[0;34m(dct, _current_indent_level)\u001b[0m\n\u001b[1;32m    401\u001b[0m                 \u001b[0;32melse\u001b[0m\u001b[0;34m:\u001b[0m\u001b[0;34m\u001b[0m\u001b[0m\n\u001b[1;32m    402\u001b[0m                     \u001b[0mchunks\u001b[0m \u001b[0;34m=\u001b[0m \u001b[0m_iterencode\u001b[0m\u001b[0;34m(\u001b[0m\u001b[0mvalue\u001b[0m\u001b[0;34m,\u001b[0m \u001b[0m_current_indent_level\u001b[0m\u001b[0;34m)\u001b[0m\u001b[0;34m\u001b[0m\u001b[0m\n\u001b[0;32m--> 403\u001b[0;31m                 \u001b[0;32myield\u001b[0m \u001b[0;32mfrom\u001b[0m \u001b[0mchunks\u001b[0m\u001b[0;34m\u001b[0m\u001b[0m\n\u001b[0m\u001b[1;32m    404\u001b[0m         \u001b[0;32mif\u001b[0m \u001b[0mnewline_indent\u001b[0m \u001b[0;32mis\u001b[0m \u001b[0;32mnot\u001b[0m \u001b[0;32mNone\u001b[0m\u001b[0;34m:\u001b[0m\u001b[0;34m\u001b[0m\u001b[0m\n\u001b[1;32m    405\u001b[0m             \u001b[0m_current_indent_level\u001b[0m \u001b[0;34m-=\u001b[0m \u001b[0;36m1\u001b[0m\u001b[0;34m\u001b[0m\u001b[0m\n",
            "\u001b[0;32m~/anaconda3_420/lib/python3.5/json/encoder.py\u001b[0m in \u001b[0;36m_iterencode_list\u001b[0;34m(lst, _current_indent_level)\u001b[0m\n\u001b[1;32m    322\u001b[0m                 \u001b[0;32melse\u001b[0m\u001b[0;34m:\u001b[0m\u001b[0;34m\u001b[0m\u001b[0m\n\u001b[1;32m    323\u001b[0m                     \u001b[0mchunks\u001b[0m \u001b[0;34m=\u001b[0m \u001b[0m_iterencode\u001b[0m\u001b[0;34m(\u001b[0m\u001b[0mvalue\u001b[0m\u001b[0;34m,\u001b[0m \u001b[0m_current_indent_level\u001b[0m\u001b[0;34m)\u001b[0m\u001b[0;34m\u001b[0m\u001b[0m\n\u001b[0;32m--> 324\u001b[0;31m                 \u001b[0;32myield\u001b[0m \u001b[0;32mfrom\u001b[0m \u001b[0mchunks\u001b[0m\u001b[0;34m\u001b[0m\u001b[0m\n\u001b[0m\u001b[1;32m    325\u001b[0m         \u001b[0;32mif\u001b[0m \u001b[0mnewline_indent\u001b[0m \u001b[0;32mis\u001b[0m \u001b[0;32mnot\u001b[0m \u001b[0;32mNone\u001b[0m\u001b[0;34m:\u001b[0m\u001b[0;34m\u001b[0m\u001b[0m\n\u001b[1;32m    326\u001b[0m             \u001b[0m_current_indent_level\u001b[0m \u001b[0;34m-=\u001b[0m \u001b[0;36m1\u001b[0m\u001b[0;34m\u001b[0m\u001b[0m\n",
            "\u001b[0;32m~/anaconda3_420/lib/python3.5/json/encoder.py\u001b[0m in \u001b[0;36m_iterencode\u001b[0;34m(o, _current_indent_level)\u001b[0m\n\u001b[1;32m    434\u001b[0m                     \u001b[0;32mraise\u001b[0m \u001b[0mValueError\u001b[0m\u001b[0;34m(\u001b[0m\u001b[0;34m\"Circular reference detected\"\u001b[0m\u001b[0;34m)\u001b[0m\u001b[0;34m\u001b[0m\u001b[0m\n\u001b[1;32m    435\u001b[0m                 \u001b[0mmarkers\u001b[0m\u001b[0;34m[\u001b[0m\u001b[0mmarkerid\u001b[0m\u001b[0;34m]\u001b[0m \u001b[0;34m=\u001b[0m \u001b[0mo\u001b[0m\u001b[0;34m\u001b[0m\u001b[0m\n\u001b[0;32m--> 436\u001b[0;31m             \u001b[0mo\u001b[0m \u001b[0;34m=\u001b[0m \u001b[0m_default\u001b[0m\u001b[0;34m(\u001b[0m\u001b[0mo\u001b[0m\u001b[0;34m)\u001b[0m\u001b[0;34m\u001b[0m\u001b[0m\n\u001b[0m\u001b[1;32m    437\u001b[0m             \u001b[0;32myield\u001b[0m \u001b[0;32mfrom\u001b[0m \u001b[0m_iterencode\u001b[0m\u001b[0;34m(\u001b[0m\u001b[0mo\u001b[0m\u001b[0;34m,\u001b[0m \u001b[0m_current_indent_level\u001b[0m\u001b[0;34m)\u001b[0m\u001b[0;34m\u001b[0m\u001b[0m\n\u001b[1;32m    438\u001b[0m             \u001b[0;32mif\u001b[0m \u001b[0mmarkers\u001b[0m \u001b[0;32mis\u001b[0m \u001b[0;32mnot\u001b[0m \u001b[0;32mNone\u001b[0m\u001b[0;34m:\u001b[0m\u001b[0;34m\u001b[0m\u001b[0m\n",
            "\u001b[0;32m~/anaconda3_420/lib/python3.5/json/encoder.py\u001b[0m in \u001b[0;36mdefault\u001b[0;34m(self, o)\u001b[0m\n\u001b[1;32m    177\u001b[0m \u001b[0;34m\u001b[0m\u001b[0m\n\u001b[1;32m    178\u001b[0m         \"\"\"\n\u001b[0;32m--> 179\u001b[0;31m         \u001b[0;32mraise\u001b[0m \u001b[0mTypeError\u001b[0m\u001b[0;34m(\u001b[0m\u001b[0mrepr\u001b[0m\u001b[0;34m(\u001b[0m\u001b[0mo\u001b[0m\u001b[0;34m)\u001b[0m \u001b[0;34m+\u001b[0m \u001b[0;34m\" is not JSON serializable\"\u001b[0m\u001b[0;34m)\u001b[0m\u001b[0;34m\u001b[0m\u001b[0m\n\u001b[0m\u001b[1;32m    180\u001b[0m \u001b[0;34m\u001b[0m\u001b[0m\n\u001b[1;32m    181\u001b[0m     \u001b[0;32mdef\u001b[0m \u001b[0mencode\u001b[0m\u001b[0;34m(\u001b[0m\u001b[0mself\u001b[0m\u001b[0;34m,\u001b[0m \u001b[0mo\u001b[0m\u001b[0;34m)\u001b[0m\u001b[0;34m:\u001b[0m\u001b[0;34m\u001b[0m\u001b[0m\n",
            "\u001b[0;31mTypeError\u001b[0m: datetime.datetime(2019, 7, 13, 17, 4, 46, 402745) is not JSON serializable"
          ]
        }
      ]
    },
    {
      "metadata": {
        "trusted": false
      },
      "cell_type": "code",
      "source": "def add_pris(link, pris):\n    data = {}\n    with open('pris_ex.json', 'w') as output:\n        json.dump(data, output)\n    \n    with open('pris_ex.json') as output:\n        pris_data = json.load(output)\n        exists = False\n        if link not in pris_data:\n            pris_data[link] = []\n            pris_data[link].append(pris)\n            exists = True\n        else:\n            for p in pris_data[link]:\n                if pris in p:\n                    exists = True\n                    break\n    if not exists:\n        pris_data[link].append(pris)\n        \n    with open('pris_ex.json', 'w') as outfile:\n        json.dump(pris_data, outfile)   \n        \n    with open('pris_ex.json') as output:\n        pris_data = json.load(output)\n        print(pris_data)\nadd_pris('http://go1.com/','333333')",
      "execution_count": 103,
      "outputs": [
        {
          "name": "stdout",
          "output_type": "stream",
          "text": "{'http://go1.com/': ['333333']}\n"
        }
      ]
    },
    {
      "metadata": {
        "trusted": false
      },
      "cell_type": "code",
      "source": "",
      "execution_count": null,
      "outputs": []
    },
    {
      "metadata": {
        "trusted": false
      },
      "cell_type": "code",
      "source": "import json\nimport datetime\n\ndata = {}\ndata['links'] = []\nlist = [\"http://go.com/\", \"http://www.com/\", \"http://localhost.com/\"]\nfor item in list:\n    current = datetime.datetime.now().strftime('%Y-%m-%dT%H:%M:%SZ')\n    new_item = {}\n    new_item['link'] = {}\n    new_item['time'] = {}\n    new_item['link'] = item\n    new_item['time'] = current\n    data['links'].append(new_item)\n\nwith open('links.json', 'w') as outfile:\n    json.dump(data, outfile)",
      "execution_count": 130,
      "outputs": []
    },
    {
      "metadata": {
        "trusted": true
      },
      "cell_type": "code",
      "source": "import datetime\n\ndef add_pris(link, pris):\n#     data = {}\n#     with open('pris_date.json', 'w') as output:\n#         json.dump(data, output)\n    \n    with open('pris_date.json') as output:\n        pris_data = json.load(output)\n        exists = False\n        if link not in pris_data:\n            pris_data[link] = []\n            current = datetime.datetime.now().strftime('%Y-%m-%dT%H:%M:%SZ')\n            price = {}\n            price['pris'] = {}\n            price['time'] = {}\n            price['pris'] = pris\n            price['time'] = current\n            pris_data[link].append(price)\n            exists = True\n        else:\n            for p in pris_data[link]:\n                if pris in p['pris']:\n                    exists = True\n                    break\n    if not exists:\n        print(\"Not exists...\")\n        current = datetime.datetime.now().strftime('%Y-%m-%dT%H:%M:%SZ')\n        price = {}\n        price['pris'] = {}\n        price['time'] = {}\n        price['pris'] = pris\n        price['time'] = current\n        pris_data[link].append(price)\n        \n    with open('pris_date.json', 'w') as outfile:\n        json.dump(pris_data, outfile)   \n        \n    with open('pris_date.json') as output:\n        pris_data = json.load(output)\n        print(pris_data)\nadd_pris('http://go4.com/','47456533')",
      "execution_count": 10,
      "outputs": [
        {
          "output_type": "stream",
          "text": "{'http://go2.com/': [{'pris': '54577', 'time': '2019-07-13T18:38:04Z'}, {'pris': '54577', 'time': '2019-07-13T18:38:04Z'}], 'http://go3.com/': [{'pris': '54577', 'time': '2019-07-13T18:38:13Z'}], 'http://go4.com/': [{'pris': '47456533', 'time': '2019-07-15T08:16:58Z'}], 'http://go1.com/': [{'pris': '54577', 'time': '2019-07-13T18:37:06Z'}, {'pris': '54577', 'time': '2019-07-13T18:37:18Z'}, {'pris': '54577', 'time': '2019-07-13T18:37:46Z'}]}\n",
          "name": "stdout"
        }
      ]
    },
    {
      "metadata": {
        "trusted": true
      },
      "cell_type": "code",
      "source": "",
      "execution_count": null,
      "outputs": []
    },
    {
      "metadata": {
        "trusted": true
      },
      "cell_type": "code",
      "source": "import json\n\nwith open ('pris.json') as output:\n    data = json.load(output)\n    print(json.dumps(data, indent=4))",
      "execution_count": 25,
      "outputs": [
        {
          "output_type": "stream",
          "text": "{\n    \"https://www.finn.no/realestate/homes/ad.html?finnkode=152327514\": [\n        {\n            \"pris\": \"3 450 000 kr\",\n            \"time\": \"2019-07-15T08:09:22Z\"\n        }\n    ],\n    \"https://www.finn.no/realestate/homes/ad.html?finnkode=152137633\": [\n        {\n            \"pris\": \"3 250 000 kr\",\n            \"time\": \"2019-07-14T19:21:57Z\"\n        }\n    ],\n    \"https://www.finn.no/realestate/homes/ad.html?finnkode=151590048\": [\n        {\n            \"pris\": \"5 000 000 kr\",\n            \"time\": \"2019-07-14T19:22:39Z\"\n        }\n    ],\n    \"https://www.finn.no/realestate/homes/ad.html?finnkode=147946754\": [\n        {\n            \"pris\": \"2 900 000 kr\",\n            \"time\": \"2019-07-14T19:21:30Z\"\n        }\n    ],\n    \"https://www.finn.no/realestate/homes/ad.html?finnkode=152298445\": [\n        {\n            \"pris\": \"3 800 000 kr\",\n            \"time\": \"2019-07-14T19:22:43Z\"\n        }\n    ],\n    \"https://www.finn.no/realestate/homes/ad.html?finnkode=146573677\": [\n        {\n            \"pris\": \"2 890 000 kr\",\n            \"time\": \"2019-07-15T08:09:28Z\"\n        }\n    ],\n    \"https://www.finn.no/realestate/homes/ad.html?finnkode=148704698\": [\n        {\n            \"pris\": \"9 300 000 kr\",\n            \"time\": \"2019-07-15T09:51:16Z\"\n        }\n    ],\n    \"https://www.finn.no/realestate/homes/ad.html?finnkode=151479240\": [\n        {\n            \"pris\": \"5 250 000 kr\",\n            \"time\": \"2019-07-14T19:21:55Z\"\n        }\n    ],\n    \"https://www.finn.no/realestate/homes/ad.html?finnkode=152265505\": [\n        {\n            \"pris\": \"2 600 000 kr\",\n            \"time\": \"2019-07-14T19:20:52Z\"\n        }\n    ],\n    \"https://www.finn.no/realestate/homes/ad.html?finnkode=151966838\": [\n        {\n            \"pris\": \"3 150 000 kr\",\n            \"time\": \"2019-07-14T19:22:04Z\"\n        }\n    ],\n    \"https://www.finn.no/realestate/homes/ad.html?finnkode=152129252\": [\n        {\n            \"pris\": \"2 600 000 kr\",\n            \"time\": \"2019-07-14T19:21:13Z\"\n        }\n    ],\n    \"https://www.finn.no/realestate/homes/ad.html?finnkode=152179054\": [\n        {\n            \"pris\": \"3 450 000 kr\",\n            \"time\": \"2019-07-14T19:22:34Z\"\n        }\n    ],\n    \"https://www.finn.no/realestate/homes/ad.html?finnkode=152264107\": [\n        {\n            \"pris\": \"8 690 000 kr\",\n            \"time\": \"2019-07-14T19:20:55Z\"\n        }\n    ],\n    \"https://www.finn.no/realestate/homes/ad.html?finnkode=152155060\": [\n        {\n            \"pris\": \"2 490 000 kr\",\n            \"time\": \"2019-07-14T19:21:23Z\"\n        }\n    ],\n    \"https://www.finn.no/realestate/homes/ad.html?finnkode=152216612\": [\n        {\n            \"pris\": \"3 200 000 kr\",\n            \"time\": \"2019-07-14T19:21:06Z\"\n        }\n    ],\n    \"https://www.finn.no/realestate/homes/ad.html?finnkode=152293948\": [\n        {\n            \"pris\": \"2 500 000 kr\",\n            \"time\": \"2019-07-14T19:22:59Z\"\n        }\n    ],\n    \"https://www.finn.no/realestate/homes/ad.html?finnkode=148277369\": [\n        {\n            \"pris\": \"3 490 000 kr\",\n            \"time\": \"2019-07-14T19:21:08Z\"\n        }\n    ],\n    \"https://www.finn.no/realestate/homes/ad.html?finnkode=146694918\": [\n        {\n            \"pris\": \"6 990 000 kr\",\n            \"time\": \"2019-07-14T19:22:49Z\"\n        }\n    ],\n    \"https://www.finn.no/realestate/homes/ad.html?finnkode=152185009\": [\n        {\n            \"pris\": \"3 390 000 kr\",\n            \"time\": \"2019-07-14T19:21:00Z\"\n        }\n    ],\n    \"https://www.finn.no/realestate/homes/ad.html?finnkode=152203316\": [\n        {\n            \"pris\": \"3 300 000 kr\",\n            \"time\": \"2019-07-14T19:21:16Z\"\n        }\n    ],\n    \"https://www.finn.no/realestate/homes/ad.html?finnkode=152364841\": [\n        {\n            \"pris\": \"3 390 000 kr\",\n            \"time\": \"2019-07-15T09:51:19Z\"\n        }\n    ],\n    \"https://www.finn.no/realestate/homes/ad.html?finnkode=152309201\": [\n        {\n            \"pris\": \"3 190 000 kr\",\n            \"time\": \"2019-07-15T08:09:48Z\"\n        }\n    ],\n    \"https://www.finn.no/realestate/homes/ad.html?finnkode=152144743\": [\n        {\n            \"pris\": \"2 500 000 kr\",\n            \"time\": \"2019-07-14T19:22:06Z\"\n        }\n    ],\n    \"https://www.finn.no/realestate/homes/ad.html?finnkode=152160641\": [\n        {\n            \"pris\": \"4 800 000 kr\",\n            \"time\": \"2019-07-14T19:21:58Z\"\n        }\n    ],\n    \"https://www.finn.no/realestate/homes/ad.html?finnkode=152298412\": [\n        {\n            \"pris\": \"3 100 000 kr\",\n            \"time\": \"2019-07-14T19:22:40Z\"\n        }\n    ],\n    \"https://www.finn.no/realestate/homes/ad.html?finnkode=152296728\": [\n        {\n            \"pris\": \"2 500 000 kr\",\n            \"time\": \"2019-07-14T19:22:46Z\"\n        }\n    ],\n    \"https://www.finn.no/realestate/homes/ad.html?finnkode=152142804\": [\n        {\n            \"pris\": \"3 200 000 kr\",\n            \"time\": \"2019-07-15T08:09:49Z\"\n        }\n    ],\n    \"https://www.finn.no/realestate/homes/ad.html?finnkode=148030792\": [\n        {\n            \"pris\": \"6 400 000 kr\",\n            \"time\": \"2019-07-14T19:22:53Z\"\n        }\n    ],\n    \"https://www.finn.no/realestate/homes/ad.html?finnkode=151456974\": [\n        {\n            \"pris\": \"7 690 000 kr\",\n            \"time\": \"2019-07-14T19:22:20Z\"\n        }\n    ],\n    \"https://www.finn.no/realestate/homes/ad.html?finnkode=152203197\": [\n        {\n            \"pris\": \"3 890 000 kr\",\n            \"time\": \"2019-07-14T19:21:20Z\"\n        }\n    ],\n    \"https://www.finn.no/realestate/homes/ad.html?finnkode=152229271\": [\n        {\n            \"pris\": \"3 350 000 kr\",\n            \"time\": \"2019-07-14T19:21:02Z\"\n        }\n    ],\n    \"https://www.finn.no/realestate/homes/ad.html?finnkode=152294226\": [\n        {\n            \"pris\": \"2 990 000 kr\",\n            \"time\": \"2019-07-14T19:22:57Z\"\n        }\n    ],\n    \"https://www.finn.no/realestate/homes/ad.html?finnkode=152080532\": [\n        {\n            \"pris\": \"2 300 000 kr\",\n            \"time\": \"2019-07-15T08:09:29Z\"\n        }\n    ],\n    \"https://www.finn.no/realestate/homes/ad.html?finnkode=146823551\": [\n        {\n            \"pris\": \"14 950 000 kr\",\n            \"time\": \"2019-07-14T19:20:49Z\"\n        }\n    ],\n    \"https://www.finn.no/realestate/homes/ad.html?finnkode=151830337\": [\n        {\n            \"pris\": \"3 150 000 kr\",\n            \"time\": \"2019-07-14T19:22:23Z\"\n        }\n    ],\n    \"https://www.finn.no/realestate/homes/ad.html?finnkode=152296782\": [\n        {\n            \"pris\": \"5 300 000 kr\",\n            \"time\": \"2019-07-14T19:22:48Z\"\n        }\n    ],\n    \"https://www.finn.no/realestate/homes/ad.html?finnkode=146180109\": [\n        {\n            \"pris\": \"2 850 000 kr\",\n            \"time\": \"2019-07-14T19:22:10Z\"\n        }\n    ],\n    \"https://www.finn.no/realestate/homes/ad.html?finnkode=152064895\": [\n        {\n            \"pris\": \"2 600 000 kr\",\n            \"time\": \"2019-07-14T19:22:37Z\"\n        }\n    ],\n    \"https://www.finn.no/realestate/homes/ad.html?finnkode=152295948\": [\n        {\n            \"pris\": \"4 100 000 kr\",\n            \"time\": \"2019-07-14T19:22:51Z\"\n        }\n    ],\n    \"https://www.finn.no/realestate/homes/ad.html?finnkode=152294702\": [\n        {\n            \"pris\": \"3 400 000 kr\",\n            \"time\": \"2019-07-14T19:22:56Z\"\n        }\n    ],\n    \"https://www.finn.no/realestate/homes/ad.html?finnkode=152319315\": [\n        {\n            \"pris\": \"3 700 000 kr\",\n            \"time\": \"2019-07-15T08:09:40Z\"\n        }\n    ],\n    \"https://www.finn.no/realestate/homes/ad.html?finnkode=152183327\": [\n        {\n            \"pris\": \"6 190 000 kr\",\n            \"time\": \"2019-07-14T19:21:44Z\"\n        }\n    ],\n    \"https://www.finn.no/realestate/homes/ad.html?finnkode=152362086\": [\n        {\n            \"pris\": \"7 000 000 kr\",\n            \"time\": \"2019-07-15T08:09:26Z\"\n        }\n    ],\n    \"https://www.finn.no/realestate/homes/ad.html?finnkode=152311836\": [\n        {\n            \"pris\": \"3 450 000 kr\",\n            \"time\": \"2019-07-15T08:09:44Z\"\n        }\n    ],\n    \"https://www.finn.no/realestate/homes/ad.html?finnkode=152174227\": [\n        {\n            \"pris\": \"3 450 000 kr\",\n            \"time\": \"2019-07-14T19:21:53Z\"\n        }\n    ],\n    \"https://www.finn.no/realestate/homes/ad.html?finnkode=152287291\": [\n        {\n            \"pris\": \"3 200 000 kr\",\n            \"time\": \"2019-07-14T19:22:32Z\"\n        }\n    ],\n    \"https://www.finn.no/realestate/homes/ad.html?finnkode=151546573\": [\n        {\n            \"pris\": \"2 800 000 kr\",\n            \"time\": \"2019-07-14T19:21:35Z\"\n        }\n    ],\n    \"https://www.finn.no/realestate/homes/ad.html?finnkode=151708327\": [\n        {\n            \"pris\": \"6 300 000 kr\",\n            \"time\": \"2019-07-14T19:22:22Z\"\n        }\n    ],\n    \"https://www.finn.no/realestate/homes/ad.html?finnkode=152124777\": [\n        {\n            \"pris\": \"13 900 000 kr\",\n            \"time\": \"2019-07-14T19:22:15Z\"\n        }\n    ],\n    \"https://www.finn.no/realestate/homes/ad.html?finnkode=152327060\": [\n        {\n            \"pris\": \"2 900 000 kr\",\n            \"time\": \"2019-07-15T08:09:35Z\"\n        }\n    ],\n    \"https://www.finn.no/realestate/homes/ad.html?finnkode=152182487\": [\n        {\n            \"pris\": \"3 690 000 kr\",\n            \"time\": \"2019-07-14T19:21:46Z\"\n        }\n    ],\n    \"https://www.finn.no/realestate/homes/ad.html?finnkode=152174237\": [\n        {\n            \"pris\": \"2 950 000 kr\",\n            \"time\": \"2019-07-14T19:21:51Z\"\n        }\n    ],\n    \"https://www.finn.no/realestate/homes/ad.html?finnkode=152293623\": [\n        {\n            \"pris\": \"3 150 000 kr\",\n            \"time\": \"2019-07-15T08:09:25Z\"\n        }\n    ],\n    \"https://www.finn.no/realestate/homes/ad.html?finnkode=152327851\": [\n        {\n            \"pris\": \"3 750 000 kr\",\n            \"time\": \"2019-07-15T08:09:31Z\"\n        }\n    ],\n    \"https://www.finn.no/realestate/homes/ad.html?finnkode=152363242\": [\n        {\n            \"pris\": \"3 300 000 kr\",\n            \"time\": \"2019-07-15T08:09:23Z\"\n        }\n    ],\n    \"https://www.finn.no/realestate/homes/ad.html?finnkode=147442904\": [\n        {\n            \"pris\": \"3 450 000 kr\",\n            \"time\": \"2019-07-14T19:22:25Z\"\n        }\n    ],\n    \"https://www.finn.no/realestate/homes/ad.html?finnkode=152134929\": [\n        {\n            \"pris\": \"2 950 000 kr\",\n            \"time\": \"2019-07-15T08:09:36Z\"\n        }\n    ],\n    \"https://www.finn.no/realestate/homes/ad.html?finnkode=152084328\": [\n        {\n            \"pris\": \"4 300 000 kr\",\n            \"time\": \"2019-07-14T19:22:36Z\"\n        }\n    ],\n    \"https://www.finn.no/realestate/homes/ad.html?finnkode=152139216\": [\n        {\n            \"pris\": \"2 590 000 kr\",\n            \"time\": \"2019-07-14T19:22:08Z\"\n        }\n    ],\n    \"https://www.finn.no/realestate/homes/ad.html?finnkode=144649866\": [\n        {\n            \"pris\": \"5 900 000 kr\",\n            \"time\": \"2019-07-14T19:22:16Z\"\n        }\n    ],\n    \"https://www.finn.no/realestate/homes/ad.html?finnkode=152243161\": [\n        {\n            \"pris\": \"3 190 000 kr\",\n            \"time\": \"2019-07-14T19:20:57Z\"\n        }\n    ],\n    \"https://www.finn.no/realestate/homes/ad.html?finnkode=152311392\": [\n        {\n            \"pris\": \"4 750 000 kr\",\n            \"time\": \"2019-07-15T08:09:46Z\"\n        }\n    ],\n    \"https://www.finn.no/realestate/homes/ad.html?finnkode=148545548\": [\n        {\n            \"pris\": \"3 400 000 kr\",\n            \"time\": \"2019-07-14T19:21:42Z\"\n        }\n    ],\n    \"https://www.finn.no/realestate/homes/ad.html?finnkode=149956155\": [\n        {\n            \"pris\": \"4 500 000 kr\",\n            \"time\": \"2019-07-14T19:22:00Z\"\n        }\n    ],\n    \"https://www.finn.no/realestate/homes/ad.html?finnkode=147933421\": [\n        {\n            \"pris\": \"1 175 000 kr\",\n            \"time\": \"2019-07-14T19:21:11Z\"\n        }\n    ],\n    \"https://www.finn.no/realestate/homes/ad.html?finnkode=152157203\": [\n        {\n            \"pris\": \"4 040 000 kr\",\n            \"time\": \"2019-07-15T08:09:43Z\"\n        }\n    ],\n    \"https://www.finn.no/realestate/homes/ad.html?finnkode=152327130\": [\n        {\n            \"pris\": \"2 550 000 kr\",\n            \"time\": \"2019-07-15T08:09:33Z\"\n        }\n    ],\n    \"https://www.finn.no/realestate/homes/ad.html?finnkode=143759807\": [\n        {\n            \"pris\": \"3 400 000 kr\",\n            \"time\": \"2019-07-14T19:21:04Z\"\n        }\n    ],\n    \"https://www.finn.no/realestate/homes/ad.html?finnkode=149751477\": [\n        {\n            \"pris\": \"6 100 000 kr\",\n            \"time\": \"2019-07-14T19:22:18Z\"\n        }\n    ],\n    \"https://www.finn.no/realestate/homes/ad.html?finnkode=152138162\": [\n        {\n            \"pris\": \"3 150 000 kr\",\n            \"time\": \"2019-07-14T19:21:47Z\"\n        }\n    ],\n    \"https://www.finn.no/realestate/homes/ad.html?finnkode=152297003\": [\n        {\n            \"pris\": \"3 440 000 kr\",\n            \"time\": \"2019-07-14T19:22:45Z\"\n        }\n    ],\n    \"https://www.finn.no/realestate/homes/ad.html?finnkode=152288951\": [\n        {\n            \"pris\": \"3 100 000 kr\",\n            \"time\": \"2019-07-14T19:22:27Z\"\n        }\n    ],\n    \"https://www.finn.no/realestate/homes/ad.html?finnkode=152294740\": [\n        {\n            \"pris\": \"3 350 000 kr\",\n            \"time\": \"2019-07-14T19:22:54Z\"\n        }\n    ],\n    \"https://www.finn.no/realestate/homes/ad.html?finnkode=152186262\": [\n        {\n            \"pris\": \"4 250 000 kr\",\n            \"time\": \"2019-07-14T19:21:37Z\"\n        }\n    ],\n    \"https://www.finn.no/realestate/homes/ad.html?finnkode=148520761\": [\n        {\n            \"pris\": \"4 000 000 kr\",\n            \"time\": \"2019-07-14T19:21:40Z\"\n        }\n    ],\n    \"https://www.finn.no/realestate/homes/ad.html?finnkode=148572636\": [\n        {\n            \"pris\": \"2 990 000 kr\",\n            \"time\": \"2019-07-14T19:21:49Z\"\n        }\n    ],\n    \"https://www.finn.no/realestate/homes/ad.html?finnkode=152320879\": [\n        {\n            \"pris\": \"3 700 000 kr\",\n            \"time\": \"2019-07-15T08:09:38Z\"\n        }\n    ],\n    \"https://www.finn.no/realestate/homes/ad.html?finnkode=152004001\": [\n        {\n            \"pris\": \"3 500 000 kr\",\n            \"time\": \"2019-07-14T19:22:02Z\"\n        }\n    ],\n    \"https://www.finn.no/realestate/homes/ad.html?finnkode=152200184\": [\n        {\n            \"pris\": \"2 490 000 kr\",\n            \"time\": \"2019-07-14T19:21:27Z\"\n        }\n    ],\n    \"https://www.finn.no/realestate/homes/ad.html?finnkode=151385890\": [\n        {\n            \"pris\": \"2 750 000 kr\",\n            \"time\": \"2019-07-15T09:51:18Z\"\n        }\n    ],\n    \"https://www.finn.no/realestate/homes/ad.html?finnkode=150001983\": [\n        {\n            \"pris\": \"5 490 000 kr\",\n            \"time\": \"2019-07-14T19:22:13Z\"\n        }\n    ],\n    \"https://www.finn.no/realestate/homes/ad.html?finnkode=146420907\": [\n        {\n            \"pris\": \"3 650 000 kr\",\n            \"time\": \"2019-07-14T19:21:09Z\"\n        }\n    ]\n}\n",
          "name": "stdout"
        }
      ]
    },
    {
      "metadata": {
        "trusted": true
      },
      "cell_type": "code",
      "source": "import json \nwith open ('pris_date.json') as output:\n    data = json.load(output)\n    for item in data:\n        json_list = data[item]\n        if len(json_list) > 1 :\n            print(item)\n            print(data[item])",
      "execution_count": 30,
      "outputs": [
        {
          "output_type": "stream",
          "text": "http://go2.com/\n[{'pris': '54577', 'time': '2019-07-13T18:38:04Z'}, {'pris': '54577', 'time': '2019-07-13T18:38:04Z'}]\nhttp://go1.com/\n[{'pris': '54577', 'time': '2019-07-13T18:37:06Z'}, {'pris': '54577', 'time': '2019-07-13T18:37:18Z'}, {'pris': '54577', 'time': '2019-07-13T18:37:46Z'}]\n",
          "name": "stdout"
        }
      ]
    },
    {
      "metadata": {
        "trusted": true
      },
      "cell_type": "code",
      "source": "import json2html",
      "execution_count": 26,
      "outputs": [
        {
          "output_type": "error",
          "ename": "ImportError",
          "evalue": "No module named 'json2html'",
          "traceback": [
            "\u001b[0;31m---------------------------------------------------------------------------\u001b[0m",
            "\u001b[0;31mImportError\u001b[0m                               Traceback (most recent call last)",
            "\u001b[0;32m<ipython-input-26-2bfb10b7957c>\u001b[0m in \u001b[0;36m<module>\u001b[0;34m()\u001b[0m\n\u001b[0;32m----> 1\u001b[0;31m \u001b[0;32mimport\u001b[0m \u001b[0mjson2html\u001b[0m\u001b[0;34m\u001b[0m\u001b[0m\n\u001b[0m",
            "\u001b[0;31mImportError\u001b[0m: No module named 'json2html'"
          ]
        }
      ]
    },
    {
      "metadata": {
        "trusted": true
      },
      "cell_type": "code",
      "source": "!pip install json2html",
      "execution_count": 27,
      "outputs": [
        {
          "output_type": "stream",
          "text": "Collecting json2html\n  Downloading https://files.pythonhosted.org/packages/01/d5/40b617ee19d2d79f606ed37f8a81e51158f126d2af67270c68f2b47ae0d5/json2html-1.3.0.tar.gz\nBuilding wheels for collected packages: json2html\n  Building wheel for json2html (setup.py) ... \u001b[?25ldone\n\u001b[?25h  Stored in directory: /home/nbuser/.cache/pip/wheels/58/36/ad/386be30507bcb8f0c9830004bd776132eba63c1b945ed79255\nSuccessfully built json2html\nInstalling collected packages: json2html\nSuccessfully installed json2html-1.3.0\n",
          "name": "stdout"
        }
      ]
    },
    {
      "metadata": {
        "trusted": true
      },
      "cell_type": "code",
      "source": "import json \nfrom json2html import *\n\nwith open ('pris_date.json') as output:\n    data = json.load(output)\n    f_table = json2html.convert(json = data)\n    finn_html= open(\"finn.html\",\"w\")\n    finn_html.write(f_table)\n    finn_html.close()",
      "execution_count": 29,
      "outputs": []
    },
    {
      "metadata": {
        "trusted": true
      },
      "cell_type": "code",
      "source": "",
      "execution_count": null,
      "outputs": []
    }
  ],
  "metadata": {
    "kernelspec": {
      "name": "python3",
      "display_name": "Python 3",
      "language": "python"
    },
    "language_info": {
      "mimetype": "text/x-python",
      "nbconvert_exporter": "python",
      "name": "python",
      "file_extension": ".py",
      "version": "3.5.4",
      "pygments_lexer": "ipython3",
      "codemirror_mode": {
        "version": 3,
        "name": "ipython"
      }
    }
  },
  "nbformat": 4,
  "nbformat_minor": 2
}