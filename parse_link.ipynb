{
  "cells": [
    {
      "metadata": {
        "trusted": true
      },
      "cell_type": "code",
      "source": "import json\nfrom urllib.request import urlopen\nfrom bs4 import BeautifulSoup\nimport datetime\n\ndef add_link(search):\n    with open('links.json') as input:\n        data = json.load(input)\n        exists = False\n        for item in data['links']:\n            if search in item['link']:\n                exists = True\n                break\n        if not exists:\n            current = datetime.datetime.now().strftime('%Y-%m-%dT%H:%M:%SZ')\n            new_item = {}\n            new_item['link'] = {}\n            new_item['time'] = {}\n            new_item['link'] = search\n            new_item['time'] = current\n            data['links'].append(new_item)\n        \n        with open('links.json', 'w') as output:\n            json.dump(data, output)\n            \nurl = \"https://www.finn.no/realestate/homes/search.html?location=0.20061\"\nhtml = urlopen(url)\nsoup = BeautifulSoup(html, 'lxml')\ntype(soup)\nall_links = soup.find_all(\"a\")\nall_ads = list()\nfor link in all_links:\n    if \"ad.html\" in link.get('href', ''):\n        all_ads.append(\"https://www.finn.no\"+link.get(\"href\"))\n\nprint(\"Total Ads: \", len(all_ads))\nfor ad in all_ads:\n    sample_url = ad\n    if \"newbuildings\" in sample_url:\n        continue\n    #add url to the links.json\n    add_link(sample_url)\n    print(sample_url)",
      "execution_count": 3,
      "outputs": [
        {
          "output_type": "stream",
          "text": "Total Ads:  51\nhttps://www.finn.no/realestate/homes/ad.html?finnkode=152200184\nhttps://www.finn.no/realestate/homes/ad.html?finnkode=148704698\nhttps://www.finn.no/realestate/homes/ad.html?finnkode=151385890\nhttps://www.finn.no/realestate/homes/ad.html?finnkode=152364841\nhttps://www.finn.no/realestate/homes/ad.html?finnkode=152363242\nhttps://www.finn.no/realestate/homes/ad.html?finnkode=152293623\nhttps://www.finn.no/realestate/homes/ad.html?finnkode=152362086\nhttps://www.finn.no/realestate/homes/ad.html?finnkode=150001983\nhttps://www.finn.no/realestate/homes/ad.html?finnkode=146573677\nhttps://www.finn.no/realestate/homes/ad.html?finnkode=152080532\nhttps://www.finn.no/realestate/homes/ad.html?finnkode=152327851\nhttps://www.finn.no/realestate/homes/ad.html?finnkode=152327514\nhttps://www.finn.no/realestate/homes/ad.html?finnkode=152327130\nhttps://www.finn.no/realestate/homes/ad.html?finnkode=152327060\nhttps://www.finn.no/realestate/homes/ad.html?finnkode=152134929\nhttps://www.finn.no/realestate/homes/ad.html?finnkode=152320879\nhttps://www.finn.no/realestate/homes/ad.html?finnkode=152319315\nhttps://www.finn.no/realestate/homes/ad.html?finnkode=152157203\nhttps://www.finn.no/realestate/homes/ad.html?finnkode=152311836\nhttps://www.finn.no/realestate/homes/ad.html?finnkode=152311392\nhttps://www.finn.no/realestate/homes/ad.html?finnkode=152309201\nhttps://www.finn.no/realestate/homes/ad.html?finnkode=152142804\nhttps://www.finn.no/realestate/homes/ad.html?finnkode=152298412\nhttps://www.finn.no/realestate/homes/ad.html?finnkode=152298445\nhttps://www.finn.no/realestate/homes/ad.html?finnkode=152297003\nhttps://www.finn.no/realestate/homes/ad.html?finnkode=152296728\nhttps://www.finn.no/realestate/homes/ad.html?finnkode=152296782\nhttps://www.finn.no/realestate/homes/ad.html?finnkode=146694918\nhttps://www.finn.no/realestate/homes/ad.html?finnkode=152295948\nhttps://www.finn.no/realestate/homes/ad.html?finnkode=148030792\nhttps://www.finn.no/realestate/homes/ad.html?finnkode=152294702\nhttps://www.finn.no/realestate/homes/ad.html?finnkode=152294740\nhttps://www.finn.no/realestate/homes/ad.html?finnkode=152294226\nhttps://www.finn.no/realestate/homes/ad.html?finnkode=152293948\nhttps://www.finn.no/realestate/homes/ad.html?finnkode=147442904\nhttps://www.finn.no/realestate/homes/ad.html?finnkode=152288951\nhttps://www.finn.no/realestate/homes/ad.html?finnkode=152287291\nhttps://www.finn.no/realestate/homes/ad.html?finnkode=152179054\nhttps://www.finn.no/realestate/homes/ad.html?finnkode=152084328\n",
          "name": "stdout"
        }
      ]
    },
    {
      "metadata": {
        "trusted": true
      },
      "cell_type": "code",
      "source": "import json \nfrom json2html import *\n\nwith open ('links.json') as output:\n    data = json.load(output)\n    f_table = json2html.convert(json = data)\n    finn_html= open(\"finn_links.html\",\"w\")\n    finn_html.write(f_table)\n    finn_html.close()",
      "execution_count": 5,
      "outputs": []
    },
    {
      "metadata": {
        "trusted": true
      },
      "cell_type": "code",
      "source": "",
      "execution_count": null,
      "outputs": []
    }
  ],
  "metadata": {
    "kernelspec": {
      "name": "python3",
      "display_name": "Python 3",
      "language": "python"
    },
    "language_info": {
      "mimetype": "text/x-python",
      "nbconvert_exporter": "python",
      "name": "python",
      "pygments_lexer": "ipython3",
      "version": "3.5.4",
      "file_extension": ".py",
      "codemirror_mode": {
        "version": 3,
        "name": "ipython"
      }
    }
  },
  "nbformat": 4,
  "nbformat_minor": 1
}